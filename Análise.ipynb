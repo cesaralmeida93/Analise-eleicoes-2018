{
 "cells": [
  {
   "cell_type": "code",
   "execution_count": 37,
   "metadata": {},
   "outputs": [
    {
     "data": {
      "text/html": [
       "        <script type=\"text/javascript\">\n",
       "        window.PlotlyConfig = {MathJaxConfig: 'local'};\n",
       "        if (window.MathJax) {MathJax.Hub.Config({SVG: {font: \"STIX-Web\"}});}\n",
       "        if (typeof require !== 'undefined') {\n",
       "        require.undef(\"plotly\");\n",
       "        requirejs.config({\n",
       "            paths: {\n",
       "                'plotly': ['https://cdn.plot.ly/plotly-latest.min']\n",
       "            }\n",
       "        });\n",
       "        require(['plotly'], function(Plotly) {\n",
       "            window._Plotly = Plotly;\n",
       "        });\n",
       "        }\n",
       "        </script>\n",
       "        "
      ]
     },
     "metadata": {},
     "output_type": "display_data"
    },
    {
     "data": {
      "text/plain": [
       "'pt_BR.UTF-8'"
      ]
     },
     "execution_count": 37,
     "metadata": {},
     "output_type": "execute_result"
    }
   ],
   "source": [
    "import pandas as pd\n",
    "import locale\n",
    "import matplotlib.pyplot as plt\n",
    "import numpy as np\n",
    "import plotly.offline as py\n",
    "import plotly.graph_objs as go\n",
    "py.init_notebook_mode(connected=True)\n",
    "locale.setlocale(locale.LC_ALL, 'pt_BR.UTF-8')"
   ]
  },
  {
   "cell_type": "code",
   "execution_count": 38,
   "metadata": {},
   "outputs": [],
   "source": [
    "df = pd.read_csv('consulta_cand_2018_SP.csv',sep=';',encoding='latin-1', usecols=[\"DS_COR_RACA\", \n",
    "                                                                                  \"DS_GENERO\", \n",
    "                                                                                  \"NM_CANDIDATO\",\n",
    "                                                                                  \"SG_PARTIDO\"])"
   ]
  },
  {
   "cell_type": "code",
   "execution_count": 39,
   "metadata": {},
   "outputs": [
    {
     "data": {
      "text/plain": [
       "Index(['NM_CANDIDATO', 'SG_PARTIDO', 'DS_GENERO', 'DS_COR_RACA'], dtype='object')"
      ]
     },
     "execution_count": 39,
     "metadata": {},
     "output_type": "execute_result"
    }
   ],
   "source": [
    "df.columns"
   ]
  },
  {
   "cell_type": "code",
   "execution_count": 41,
   "metadata": {},
   "outputs": [
    {
     "data": {
      "text/html": [
       "<div>\n",
       "<style scoped>\n",
       "    .dataframe tbody tr th:only-of-type {\n",
       "        vertical-align: middle;\n",
       "    }\n",
       "\n",
       "    .dataframe tbody tr th {\n",
       "        vertical-align: top;\n",
       "    }\n",
       "\n",
       "    .dataframe thead th {\n",
       "        text-align: right;\n",
       "    }\n",
       "</style>\n",
       "<table border=\"1\" class=\"dataframe\">\n",
       "  <thead>\n",
       "    <tr style=\"text-align: right;\">\n",
       "      <th></th>\n",
       "      <th>NM_CANDIDATO</th>\n",
       "      <th>SG_PARTIDO</th>\n",
       "      <th>DS_GENERO</th>\n",
       "      <th>DS_COR_RACA</th>\n",
       "    </tr>\n",
       "  </thead>\n",
       "  <tbody>\n",
       "    <tr>\n",
       "      <th>0</th>\n",
       "      <td>HENRIQUE CARVALHO DE CAMPOS</td>\n",
       "      <td>PODE</td>\n",
       "      <td>MASCULINO</td>\n",
       "      <td>PRETA</td>\n",
       "    </tr>\n",
       "    <tr>\n",
       "      <th>1</th>\n",
       "      <td>MICHEL RAMIRO CARNEIRO</td>\n",
       "      <td>PC do B</td>\n",
       "      <td>MASCULINO</td>\n",
       "      <td>BRANCA</td>\n",
       "    </tr>\n",
       "    <tr>\n",
       "      <th>2</th>\n",
       "      <td>RAIMUNDO BERNARDINO DO NASCIMENTO</td>\n",
       "      <td>PT</td>\n",
       "      <td>MASCULINO</td>\n",
       "      <td>PRETA</td>\n",
       "    </tr>\n",
       "    <tr>\n",
       "      <th>3</th>\n",
       "      <td>MAURICIO DOMINGUES DA SILVA</td>\n",
       "      <td>PRB</td>\n",
       "      <td>MASCULINO</td>\n",
       "      <td>PARDA</td>\n",
       "    </tr>\n",
       "    <tr>\n",
       "      <th>4</th>\n",
       "      <td>ORLANDO MAURÍCIO JÚNIOR</td>\n",
       "      <td>PT</td>\n",
       "      <td>MASCULINO</td>\n",
       "      <td>BRANCA</td>\n",
       "    </tr>\n",
       "    <tr>\n",
       "      <th>...</th>\n",
       "      <td>...</td>\n",
       "      <td>...</td>\n",
       "      <td>...</td>\n",
       "      <td>...</td>\n",
       "    </tr>\n",
       "    <tr>\n",
       "      <th>3947</th>\n",
       "      <td>LUIZ JACINTO NEPOMUCENO NETO</td>\n",
       "      <td>PHS</td>\n",
       "      <td>MASCULINO</td>\n",
       "      <td>BRANCA</td>\n",
       "    </tr>\n",
       "    <tr>\n",
       "      <th>3948</th>\n",
       "      <td>MARCELA DIAS MOREIRA</td>\n",
       "      <td>PSOL</td>\n",
       "      <td>FEMININO</td>\n",
       "      <td>PARDA</td>\n",
       "    </tr>\n",
       "    <tr>\n",
       "      <th>3949</th>\n",
       "      <td>JOSÉ LUIZ GLADCHI</td>\n",
       "      <td>PRTB</td>\n",
       "      <td>MASCULINO</td>\n",
       "      <td>BRANCA</td>\n",
       "    </tr>\n",
       "    <tr>\n",
       "      <th>3950</th>\n",
       "      <td>EDUARDO RODRIGUES XAVIER</td>\n",
       "      <td>MDB</td>\n",
       "      <td>MASCULINO</td>\n",
       "      <td>PARDA</td>\n",
       "    </tr>\n",
       "    <tr>\n",
       "      <th>3951</th>\n",
       "      <td>HENRIQUE STEIN SCIASCIO</td>\n",
       "      <td>PRB</td>\n",
       "      <td>MASCULINO</td>\n",
       "      <td>BRANCA</td>\n",
       "    </tr>\n",
       "  </tbody>\n",
       "</table>\n",
       "<p>3952 rows × 4 columns</p>\n",
       "</div>"
      ],
      "text/plain": [
       "                           NM_CANDIDATO SG_PARTIDO  DS_GENERO DS_COR_RACA\n",
       "0           HENRIQUE CARVALHO DE CAMPOS       PODE  MASCULINO       PRETA\n",
       "1                MICHEL RAMIRO CARNEIRO    PC do B  MASCULINO      BRANCA\n",
       "2     RAIMUNDO BERNARDINO DO NASCIMENTO         PT  MASCULINO       PRETA\n",
       "3           MAURICIO DOMINGUES DA SILVA        PRB  MASCULINO       PARDA\n",
       "4               ORLANDO MAURÍCIO JÚNIOR         PT  MASCULINO      BRANCA\n",
       "...                                 ...        ...        ...         ...\n",
       "3947       LUIZ JACINTO NEPOMUCENO NETO        PHS  MASCULINO      BRANCA\n",
       "3948               MARCELA DIAS MOREIRA       PSOL   FEMININO       PARDA\n",
       "3949                  JOSÉ LUIZ GLADCHI       PRTB  MASCULINO      BRANCA\n",
       "3950           EDUARDO RODRIGUES XAVIER        MDB  MASCULINO       PARDA\n",
       "3951            HENRIQUE STEIN SCIASCIO        PRB  MASCULINO      BRANCA\n",
       "\n",
       "[3952 rows x 4 columns]"
      ]
     },
     "execution_count": 41,
     "metadata": {},
     "output_type": "execute_result"
    }
   ],
   "source": [
    "df"
   ]
  },
  {
   "cell_type": "code",
   "execution_count": 47,
   "metadata": {},
   "outputs": [],
   "source": [
    "cor1 = df.query('DS_COR_RACA == \"PRETA\"')\n",
    "cor2 = df.query('DS_COR_RACA == \"BRANCA\"')\n",
    "cor3 = df.query('DS_COR_RACA == \"PARDA\"')"
   ]
  },
  {
   "cell_type": "code",
   "execution_count": 48,
   "metadata": {},
   "outputs": [],
   "source": [
    "valorCor1 = cor1['DS_COR_RACA'].count()\n",
    "valorCor2 = cor2['DS_COR_RACA'].count()\n",
    "valorCor3 = cor3['DS_COR_RACA'].count()"
   ]
  },
  {
   "cell_type": "code",
   "execution_count": 46,
   "metadata": {},
   "outputs": [
    {
     "data": {
      "text/html": [
       "<div>\n",
       "<style scoped>\n",
       "    .dataframe tbody tr th:only-of-type {\n",
       "        vertical-align: middle;\n",
       "    }\n",
       "\n",
       "    .dataframe tbody tr th {\n",
       "        vertical-align: top;\n",
       "    }\n",
       "\n",
       "    .dataframe thead th {\n",
       "        text-align: right;\n",
       "    }\n",
       "</style>\n",
       "<table border=\"1\" class=\"dataframe\">\n",
       "  <thead>\n",
       "    <tr style=\"text-align: right;\">\n",
       "      <th></th>\n",
       "      <th>NM_CANDIDATO</th>\n",
       "      <th>SG_PARTIDO</th>\n",
       "      <th>DS_GENERO</th>\n",
       "      <th>DS_COR_RACA</th>\n",
       "    </tr>\n",
       "  </thead>\n",
       "  <tbody>\n",
       "    <tr>\n",
       "      <th>5</th>\n",
       "      <td>ROSANILDA ANTONIA DA SILVA</td>\n",
       "      <td>PV</td>\n",
       "      <td>FEMININO</td>\n",
       "      <td>PRETA</td>\n",
       "    </tr>\n",
       "    <tr>\n",
       "      <th>31</th>\n",
       "      <td>MARIA IZABEL BEZERRA DE SÁ</td>\n",
       "      <td>PT</td>\n",
       "      <td>FEMININO</td>\n",
       "      <td>PRETA</td>\n",
       "    </tr>\n",
       "    <tr>\n",
       "      <th>45</th>\n",
       "      <td>ILMA ROSA DA SILVA</td>\n",
       "      <td>PRP</td>\n",
       "      <td>FEMININO</td>\n",
       "      <td>PRETA</td>\n",
       "    </tr>\n",
       "    <tr>\n",
       "      <th>46</th>\n",
       "      <td>MARIA DO CARMO DA CRUZ SANTOS</td>\n",
       "      <td>PMB</td>\n",
       "      <td>FEMININO</td>\n",
       "      <td>PRETA</td>\n",
       "    </tr>\n",
       "    <tr>\n",
       "      <th>82</th>\n",
       "      <td>LECI BRANDÃO DA SILVA</td>\n",
       "      <td>PC do B</td>\n",
       "      <td>FEMININO</td>\n",
       "      <td>PRETA</td>\n",
       "    </tr>\n",
       "    <tr>\n",
       "      <th>...</th>\n",
       "      <td>...</td>\n",
       "      <td>...</td>\n",
       "      <td>...</td>\n",
       "      <td>...</td>\n",
       "    </tr>\n",
       "    <tr>\n",
       "      <th>3835</th>\n",
       "      <td>MARILU DE PAULA AMARANTE</td>\n",
       "      <td>PMN</td>\n",
       "      <td>FEMININO</td>\n",
       "      <td>PRETA</td>\n",
       "    </tr>\n",
       "    <tr>\n",
       "      <th>3861</th>\n",
       "      <td>NORMACI SOUSA SAMPAIO</td>\n",
       "      <td>PT</td>\n",
       "      <td>FEMININO</td>\n",
       "      <td>PRETA</td>\n",
       "    </tr>\n",
       "    <tr>\n",
       "      <th>3869</th>\n",
       "      <td>DANIELA CORREA SANTOS</td>\n",
       "      <td>PRTB</td>\n",
       "      <td>FEMININO</td>\n",
       "      <td>PRETA</td>\n",
       "    </tr>\n",
       "    <tr>\n",
       "      <th>3875</th>\n",
       "      <td>SUELLEN SILVA ROSIM</td>\n",
       "      <td>PATRIOTA</td>\n",
       "      <td>FEMININO</td>\n",
       "      <td>PRETA</td>\n",
       "    </tr>\n",
       "    <tr>\n",
       "      <th>3891</th>\n",
       "      <td>JACQUELINE MOREIRA DOS SANTOS ALMEIDA</td>\n",
       "      <td>REDE</td>\n",
       "      <td>FEMININO</td>\n",
       "      <td>PRETA</td>\n",
       "    </tr>\n",
       "  </tbody>\n",
       "</table>\n",
       "<p>166 rows × 4 columns</p>\n",
       "</div>"
      ],
      "text/plain": [
       "                               NM_CANDIDATO SG_PARTIDO DS_GENERO DS_COR_RACA\n",
       "5                ROSANILDA ANTONIA DA SILVA         PV  FEMININO       PRETA\n",
       "31               MARIA IZABEL BEZERRA DE SÁ         PT  FEMININO       PRETA\n",
       "45                       ILMA ROSA DA SILVA        PRP  FEMININO       PRETA\n",
       "46            MARIA DO CARMO DA CRUZ SANTOS        PMB  FEMININO       PRETA\n",
       "82                    LECI BRANDÃO DA SILVA    PC do B  FEMININO       PRETA\n",
       "...                                     ...        ...       ...         ...\n",
       "3835               MARILU DE PAULA AMARANTE        PMN  FEMININO       PRETA\n",
       "3861                  NORMACI SOUSA SAMPAIO         PT  FEMININO       PRETA\n",
       "3869                  DANIELA CORREA SANTOS       PRTB  FEMININO       PRETA\n",
       "3875                    SUELLEN SILVA ROSIM   PATRIOTA  FEMININO       PRETA\n",
       "3891  JACQUELINE MOREIRA DOS SANTOS ALMEIDA       REDE  FEMININO       PRETA\n",
       "\n",
       "[166 rows x 4 columns]"
      ]
     },
     "execution_count": 46,
     "metadata": {},
     "output_type": "execute_result"
    }
   ],
   "source": [
    "df.query('DS_COR_RACA == \"PRETA\" and DS_GENERO == \"FEMININO\" ')"
   ]
  }
 ],
 "metadata": {
  "kernelspec": {
   "display_name": "Python 3",
   "language": "python",
   "name": "python3"
  },
  "language_info": {
   "codemirror_mode": {
    "name": "ipython",
    "version": 3
   },
   "file_extension": ".py",
   "mimetype": "text/x-python",
   "name": "python",
   "nbconvert_exporter": "python",
   "pygments_lexer": "ipython3",
   "version": "3.8.5"
  }
 },
 "nbformat": 4,
 "nbformat_minor": 4
}
